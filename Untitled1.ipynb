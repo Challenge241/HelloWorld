{
 "cells": [
  {
   "cell_type": "code",
   "execution_count": 4,
   "id": "f6b2839f",
   "metadata": {},
   "outputs": [
    {
     "ename": "ModuleNotFoundError",
     "evalue": "No module named 'cv2'",
     "output_type": "error",
     "traceback": [
      "\u001b[1;31m---------------------------------------------------------------------------\u001b[0m",
      "\u001b[1;31mModuleNotFoundError\u001b[0m                       Traceback (most recent call last)",
      "\u001b[1;32m~\\AppData\\Local\\Temp\\ipykernel_12900\\2753675213.py\u001b[0m in \u001b[0;36m<module>\u001b[1;34m\u001b[0m\n\u001b[0;32m      1\u001b[0m \u001b[1;32mimport\u001b[0m \u001b[0mnumpy\u001b[0m \u001b[1;32mas\u001b[0m \u001b[0mnp\u001b[0m\u001b[1;33m\u001b[0m\u001b[1;33m\u001b[0m\u001b[0m\n\u001b[1;32m----> 2\u001b[1;33m \u001b[1;32mimport\u001b[0m \u001b[0mcv2\u001b[0m\u001b[1;33m\u001b[0m\u001b[1;33m\u001b[0m\u001b[0m\n\u001b[0m\u001b[0;32m      3\u001b[0m \u001b[0mf1_name\u001b[0m\u001b[1;33m=\u001b[0m\u001b[1;34m'f1.jpeg'\u001b[0m\u001b[1;33m\u001b[0m\u001b[1;33m\u001b[0m\u001b[0m\n\u001b[0;32m      4\u001b[0m \u001b[0mf2_name\u001b[0m\u001b[1;33m=\u001b[0m\u001b[1;34m'f2.jpeg'\u001b[0m\u001b[1;33m\u001b[0m\u001b[1;33m\u001b[0m\u001b[0m\n\u001b[0;32m      5\u001b[0m \u001b[0mf1\u001b[0m\u001b[1;33m=\u001b[0m\u001b[0mcv2\u001b[0m\u001b[1;33m.\u001b[0m\u001b[0mimread\u001b[0m\u001b[1;33m(\u001b[0m\u001b[0mf1_name\u001b[0m\u001b[1;33m,\u001b[0m\u001b[1;36m0\u001b[0m\u001b[1;33m)\u001b[0m\u001b[1;33m\u001b[0m\u001b[1;33m\u001b[0m\u001b[0m\n",
      "\u001b[1;31mModuleNotFoundError\u001b[0m: No module named 'cv2'"
     ]
    }
   ],
   "source": [
    "import numpy as np\n",
    "import cv2\n",
    "f1_name='f1.jpeg'\n",
    "f2_name='f2.jpeg'\n",
    "f1=cv2.imread(f1_name,0)\n",
    "f2=cv2.imread(f2_name,0)\n",
    "f1=cv2.resize(f1,(1024,512))\n",
    "f2=cv2.resize(f2,(1024,512))\n",
    "fft_f1=np.fft.fft2(f1)\n",
    "fft_f2=np.fft.fft2(f2)\n",
    "f1_amp=np.abs(fft_f1)\n",
    "f1_pha=np.angle(fft_f1)\n",
    "f2_amp=np.abs(fft_f2)\n",
    "f2_pha=np.angle(fft_f2)\n",
    "f1_trans=f2_amp*np.cos(f1_pha)+f1_amp*np.sin(f1_pha)*1j\n",
    "f2_trans=f1_amp*np.cos(f2_pha)+f1_amp*np.sin(f2_pha)*1j\n",
    "f1_amp2_pha1=np.unit8(np.fft.ifft2(f1_trans))\n",
    "f2_amp1_pha2=np.unit8(np.fft.ifft2(f2_trans))\n",
    "cv2.imshow('f1_amp2_pha1',f1_amp2_pha1)\n",
    "cv2.imshow('f2_amp1_pha2',f2_amp1_pha2)"
   ]
  },
  {
   "cell_type": "code",
   "execution_count": null,
   "id": "543240aa",
   "metadata": {},
   "outputs": [],
   "source": []
  }
 ],
 "metadata": {
  "kernelspec": {
   "display_name": "Python 3 (ipykernel)",
   "language": "python",
   "name": "python3"
  },
  "language_info": {
   "codemirror_mode": {
    "name": "ipython",
    "version": 3
   },
   "file_extension": ".py",
   "mimetype": "text/x-python",
   "name": "python",
   "nbconvert_exporter": "python",
   "pygments_lexer": "ipython3",
   "version": "3.9.13"
  }
 },
 "nbformat": 4,
 "nbformat_minor": 5
}
