{
 "cells": [
  {
   "cell_type": "code",
   "execution_count": null,
   "id": "8e2abc26",
   "metadata": {},
   "outputs": [],
   "source": [
    "data={'性别':[0,0,1,1],\n",
    "      '化妆':[1,0,0,0],\n",
    "      '打游戏':[0,0,1,0],\n",
    "     '礼物':['口红','包包','Xbox','限量版球鞋']}"
   ]
  },
  {
   "cell_type": "code",
   "execution_count": null,
   "id": "4d5eb738",
   "metadata": {},
   "outputs": [],
   "source": [
    "df=pd.DataFrame(data)"
   ]
  },
  {
   "cell_type": "code",
   "execution_count": null,
   "id": "76b12a38",
   "metadata": {},
   "outputs": [],
   "source": [
    "df.head()"
   ]
  }
 ],
 "metadata": {
  "kernelspec": {
   "display_name": "Python 3 (ipykernel)",
   "language": "python",
   "name": "python3"
  },
  "language_info": {
   "codemirror_mode": {
    "name": "ipython",
    "version": 3
   },
   "file_extension": ".py",
   "mimetype": "text/x-python",
   "name": "python",
   "nbconvert_exporter": "python",
   "pygments_lexer": "ipython3",
   "version": "3.9.13"
  }
 },
 "nbformat": 4,
 "nbformat_minor": 5
}
