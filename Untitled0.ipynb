{
  "nbformat": 4,
  "nbformat_minor": 0,
  "metadata": {
    "colab": {
      "provenance": [],
      "gpuType": "T4",
      "authorship_tag": "ABX9TyOLe1d9H6N+6yts1URAC/Y/",
      "include_colab_link": true
    },
    "kernelspec": {
      "name": "python3",
      "display_name": "Python 3"
    },
    "language_info": {
      "name": "python"
    },
    "accelerator": "GPU"
  },
  "cells": [
    {
      "cell_type": "markdown",
      "metadata": {
        "id": "view-in-github",
        "colab_type": "text"
      },
      "source": [
        "<a href=\"https://colab.research.google.com/github/Challenge241/ManyPythonCode/blob/master/Untitled0.ipynb\" target=\"_parent\"><img src=\"https://colab.research.google.com/assets/colab-badge.svg\" alt=\"Open In Colab\"/></a>"
      ]
    },
    {
      "cell_type": "code",
      "execution_count": null,
      "metadata": {
        "colab": {
          "base_uri": "https://localhost:8080/"
        },
        "id": "69OCkQ_ucmyX",
        "outputId": "2eeec4e1-ec5f-4109-8059-1fc2a9d3bf34"
      },
      "outputs": [
        {
          "output_type": "stream",
          "name": "stdout",
          "text": [
            "try\n"
          ]
        }
      ],
      "source": [
        "print(\"try\")"
      ]
    },
    {
      "cell_type": "code",
      "source": [
        "print(\"Hello\")"
      ],
      "metadata": {
        "colab": {
          "base_uri": "https://localhost:8080/"
        },
        "id": "B9WJbMAada8M",
        "outputId": "a49fa074-586a-4879-e0f3-06e26e7dbf40"
      },
      "execution_count": null,
      "outputs": [
        {
          "output_type": "stream",
          "name": "stdout",
          "text": [
            "Hello\n"
          ]
        }
      ]
    },
    {
      "cell_type": "code",
      "source": [
        "import torch\n",
        "import torch.nn as nn\n",
        "import torch.optim as optim\n",
        "import torchvision\n",
        "import torchvision.transforms as transforms"
      ],
      "metadata": {
        "id": "Ixe9GGvyhwKs"
      },
      "execution_count": 1,
      "outputs": []
    },
    {
      "cell_type": "code",
      "source": [
        "BATCH_SIZE = 64\n",
        "LR = 0.001\n",
        "EPOCHS = 10"
      ],
      "metadata": {
        "id": "Y9lfWK9oiJq7"
      },
      "execution_count": 2,
      "outputs": []
    },
    {
      "cell_type": "code",
      "source": [
        "transform = transforms.Compose([\n",
        "    transforms.ToTensor(),\n",
        "    transforms.Normalize((0.5,), (0.5,))\n",
        "])\n",
        "\n",
        "train_dataset = torchvision.datasets.MNIST(root='./data', train=True, transform=transform, download=True)\n",
        "train_loader = torch.utils.data.DataLoader(train_dataset, batch_size=BATCH_SIZE, shuffle=True)\n",
        "\n",
        "test_dataset = torchvision.datasets.MNIST(root='./data', train=False, transform=transform)\n",
        "test_loader = torch.utils.data.DataLoader(test_dataset, batch_size=BATCH_SIZE, shuffle=False)"
      ],
      "metadata": {
        "id": "xc12HKau04r7",
        "colab": {
          "base_uri": "https://localhost:8080/"
        },
        "outputId": "5112f2a9-69b2-4e71-bd15-20fc53df429d"
      },
      "execution_count": 3,
      "outputs": [
        {
          "output_type": "stream",
          "name": "stdout",
          "text": [
            "Downloading http://yann.lecun.com/exdb/mnist/train-images-idx3-ubyte.gz\n",
            "Downloading http://yann.lecun.com/exdb/mnist/train-images-idx3-ubyte.gz to ./data/MNIST/raw/train-images-idx3-ubyte.gz\n"
          ]
        },
        {
          "output_type": "stream",
          "name": "stderr",
          "text": [
            "100%|██████████| 9912422/9912422 [00:00<00:00, 79044131.34it/s]\n"
          ]
        },
        {
          "output_type": "stream",
          "name": "stdout",
          "text": [
            "Extracting ./data/MNIST/raw/train-images-idx3-ubyte.gz to ./data/MNIST/raw\n",
            "\n",
            "Downloading http://yann.lecun.com/exdb/mnist/train-labels-idx1-ubyte.gz\n",
            "Downloading http://yann.lecun.com/exdb/mnist/train-labels-idx1-ubyte.gz to ./data/MNIST/raw/train-labels-idx1-ubyte.gz\n"
          ]
        },
        {
          "output_type": "stream",
          "name": "stderr",
          "text": [
            "100%|██████████| 28881/28881 [00:00<00:00, 109328243.52it/s]\n"
          ]
        },
        {
          "output_type": "stream",
          "name": "stdout",
          "text": [
            "Extracting ./data/MNIST/raw/train-labels-idx1-ubyte.gz to ./data/MNIST/raw\n",
            "\n",
            "Downloading http://yann.lecun.com/exdb/mnist/t10k-images-idx3-ubyte.gz\n",
            "Downloading http://yann.lecun.com/exdb/mnist/t10k-images-idx3-ubyte.gz to ./data/MNIST/raw/t10k-images-idx3-ubyte.gz\n"
          ]
        },
        {
          "output_type": "stream",
          "name": "stderr",
          "text": [
            "100%|██████████| 1648877/1648877 [00:00<00:00, 27873508.86it/s]\n"
          ]
        },
        {
          "output_type": "stream",
          "name": "stdout",
          "text": [
            "Extracting ./data/MNIST/raw/t10k-images-idx3-ubyte.gz to ./data/MNIST/raw\n",
            "\n",
            "Downloading http://yann.lecun.com/exdb/mnist/t10k-labels-idx1-ubyte.gz\n",
            "Downloading http://yann.lecun.com/exdb/mnist/t10k-labels-idx1-ubyte.gz to ./data/MNIST/raw/t10k-labels-idx1-ubyte.gz\n"
          ]
        },
        {
          "output_type": "stream",
          "name": "stderr",
          "text": [
            "100%|██████████| 4542/4542 [00:00<00:00, 4060215.00it/s]\n"
          ]
        },
        {
          "output_type": "stream",
          "name": "stdout",
          "text": [
            "Extracting ./data/MNIST/raw/t10k-labels-idx1-ubyte.gz to ./data/MNIST/raw\n",
            "\n"
          ]
        }
      ]
    },
    {
      "cell_type": "code",
      "source": [
        "class SimpleMNIST(nn.Module):\n",
        "    def __init__(self):\n",
        "        super(SimpleMNIST, self).__init__()\n",
        "        self.flatten = nn.Flatten()\n",
        "        self.fc1 = nn.Linear(28*28, 500)\n",
        "        self.fc2 = nn.Linear(500, 10)\n",
        "        self.relu = nn.ReLU()\n",
        "\n",
        "    def forward(self, x):\n",
        "        x = self.flatten(x)\n",
        "        x = self.relu(self.fc1(x))\n",
        "        x = self.fc2(x)\n",
        "        return x"
      ],
      "metadata": {
        "id": "Bisgea1U06sw"
      },
      "execution_count": 4,
      "outputs": []
    },
    {
      "cell_type": "code",
      "source": [
        "model = SimpleMNIST()\n",
        "criterion = nn.CrossEntropyLoss()\n",
        "optimizer = optim.Adam(model.parameters(), lr=LR)"
      ],
      "metadata": {
        "id": "cxLs8h0w0_w2"
      },
      "execution_count": 5,
      "outputs": []
    },
    {
      "cell_type": "code",
      "source": [
        "for epoch in range(EPOCHS):\n",
        "    for i, (inputs, labels) in enumerate(train_loader):\n",
        "        outputs = model(inputs)\n",
        "        loss = criterion(outputs, labels)\n",
        "\n",
        "        optimizer.zero_grad()\n",
        "        loss.backward()\n",
        "        optimizer.step()\n",
        "\n",
        "        if i % 100 == 0:\n",
        "            print(f\"Epoch [{epoch + 1}/{EPOCHS}], Step [{i}/{len(train_loader)}], Loss: {loss.item():.4f}\")\n",
        "\n",
        "print(\"Training Complete!\")"
      ],
      "metadata": {
        "colab": {
          "base_uri": "https://localhost:8080/"
        },
        "id": "-qztJXTc1C1g",
        "outputId": "f41efadb-3d78-482e-a91a-21075b5c76f0"
      },
      "execution_count": 6,
      "outputs": [
        {
          "output_type": "stream",
          "name": "stdout",
          "text": [
            "Epoch [1/10], Step [0/938], Loss: 2.3293\n",
            "Epoch [1/10], Step [100/938], Loss: 0.5477\n",
            "Epoch [1/10], Step [200/938], Loss: 0.3486\n",
            "Epoch [1/10], Step [300/938], Loss: 0.2149\n",
            "Epoch [1/10], Step [400/938], Loss: 0.4151\n",
            "Epoch [1/10], Step [500/938], Loss: 0.2213\n",
            "Epoch [1/10], Step [600/938], Loss: 0.1507\n",
            "Epoch [1/10], Step [700/938], Loss: 0.1055\n",
            "Epoch [1/10], Step [800/938], Loss: 0.3388\n",
            "Epoch [1/10], Step [900/938], Loss: 0.1619\n",
            "Epoch [2/10], Step [0/938], Loss: 0.3550\n",
            "Epoch [2/10], Step [100/938], Loss: 0.1751\n",
            "Epoch [2/10], Step [200/938], Loss: 0.1664\n",
            "Epoch [2/10], Step [300/938], Loss: 0.1237\n",
            "Epoch [2/10], Step [400/938], Loss: 0.3217\n",
            "Epoch [2/10], Step [500/938], Loss: 0.2272\n",
            "Epoch [2/10], Step [600/938], Loss: 0.2015\n",
            "Epoch [2/10], Step [700/938], Loss: 0.0773\n",
            "Epoch [2/10], Step [800/938], Loss: 0.0935\n",
            "Epoch [2/10], Step [900/938], Loss: 0.3560\n",
            "Epoch [3/10], Step [0/938], Loss: 0.0666\n",
            "Epoch [3/10], Step [100/938], Loss: 0.1241\n",
            "Epoch [3/10], Step [200/938], Loss: 0.2087\n",
            "Epoch [3/10], Step [300/938], Loss: 0.1712\n",
            "Epoch [3/10], Step [400/938], Loss: 0.0239\n",
            "Epoch [3/10], Step [500/938], Loss: 0.1016\n",
            "Epoch [3/10], Step [600/938], Loss: 0.0346\n",
            "Epoch [3/10], Step [700/938], Loss: 0.0789\n",
            "Epoch [3/10], Step [800/938], Loss: 0.1434\n",
            "Epoch [3/10], Step [900/938], Loss: 0.1527\n",
            "Epoch [4/10], Step [0/938], Loss: 0.0789\n",
            "Epoch [4/10], Step [100/938], Loss: 0.0939\n",
            "Epoch [4/10], Step [200/938], Loss: 0.0447\n",
            "Epoch [4/10], Step [300/938], Loss: 0.0473\n",
            "Epoch [4/10], Step [400/938], Loss: 0.0576\n",
            "Epoch [4/10], Step [500/938], Loss: 0.0273\n",
            "Epoch [4/10], Step [600/938], Loss: 0.0349\n",
            "Epoch [4/10], Step [700/938], Loss: 0.0156\n",
            "Epoch [4/10], Step [800/938], Loss: 0.0779\n",
            "Epoch [4/10], Step [900/938], Loss: 0.0589\n",
            "Epoch [5/10], Step [0/938], Loss: 0.1064\n",
            "Epoch [5/10], Step [100/938], Loss: 0.0396\n",
            "Epoch [5/10], Step [200/938], Loss: 0.0556\n",
            "Epoch [5/10], Step [300/938], Loss: 0.0740\n",
            "Epoch [5/10], Step [400/938], Loss: 0.0658\n",
            "Epoch [5/10], Step [500/938], Loss: 0.0106\n",
            "Epoch [5/10], Step [600/938], Loss: 0.2347\n",
            "Epoch [5/10], Step [700/938], Loss: 0.0567\n",
            "Epoch [5/10], Step [800/938], Loss: 0.0241\n",
            "Epoch [5/10], Step [900/938], Loss: 0.1564\n",
            "Epoch [6/10], Step [0/938], Loss: 0.0449\n",
            "Epoch [6/10], Step [100/938], Loss: 0.0045\n",
            "Epoch [6/10], Step [200/938], Loss: 0.0124\n",
            "Epoch [6/10], Step [300/938], Loss: 0.0778\n",
            "Epoch [6/10], Step [400/938], Loss: 0.0250\n",
            "Epoch [6/10], Step [500/938], Loss: 0.0197\n",
            "Epoch [6/10], Step [600/938], Loss: 0.0540\n",
            "Epoch [6/10], Step [700/938], Loss: 0.0034\n",
            "Epoch [6/10], Step [800/938], Loss: 0.2044\n",
            "Epoch [6/10], Step [900/938], Loss: 0.0396\n",
            "Epoch [7/10], Step [0/938], Loss: 0.0115\n",
            "Epoch [7/10], Step [100/938], Loss: 0.0080\n",
            "Epoch [7/10], Step [200/938], Loss: 0.1196\n",
            "Epoch [7/10], Step [300/938], Loss: 0.1821\n",
            "Epoch [7/10], Step [400/938], Loss: 0.0343\n",
            "Epoch [7/10], Step [500/938], Loss: 0.0411\n",
            "Epoch [7/10], Step [600/938], Loss: 0.0498\n",
            "Epoch [7/10], Step [700/938], Loss: 0.0536\n",
            "Epoch [7/10], Step [800/938], Loss: 0.0245\n",
            "Epoch [7/10], Step [900/938], Loss: 0.0030\n",
            "Epoch [8/10], Step [0/938], Loss: 0.0094\n",
            "Epoch [8/10], Step [100/938], Loss: 0.0994\n",
            "Epoch [8/10], Step [200/938], Loss: 0.0863\n",
            "Epoch [8/10], Step [300/938], Loss: 0.0177\n",
            "Epoch [8/10], Step [400/938], Loss: 0.0371\n",
            "Epoch [8/10], Step [500/938], Loss: 0.0755\n",
            "Epoch [8/10], Step [600/938], Loss: 0.0168\n",
            "Epoch [8/10], Step [700/938], Loss: 0.0131\n",
            "Epoch [8/10], Step [800/938], Loss: 0.0313\n",
            "Epoch [8/10], Step [900/938], Loss: 0.0198\n",
            "Epoch [9/10], Step [0/938], Loss: 0.0080\n",
            "Epoch [9/10], Step [100/938], Loss: 0.0257\n",
            "Epoch [9/10], Step [200/938], Loss: 0.0061\n",
            "Epoch [9/10], Step [300/938], Loss: 0.0080\n",
            "Epoch [9/10], Step [400/938], Loss: 0.1047\n",
            "Epoch [9/10], Step [500/938], Loss: 0.0244\n",
            "Epoch [9/10], Step [600/938], Loss: 0.0198\n",
            "Epoch [9/10], Step [700/938], Loss: 0.0134\n",
            "Epoch [9/10], Step [800/938], Loss: 0.0037\n",
            "Epoch [9/10], Step [900/938], Loss: 0.0092\n",
            "Epoch [10/10], Step [0/938], Loss: 0.0923\n",
            "Epoch [10/10], Step [100/938], Loss: 0.0107\n",
            "Epoch [10/10], Step [200/938], Loss: 0.0050\n",
            "Epoch [10/10], Step [300/938], Loss: 0.0053\n",
            "Epoch [10/10], Step [400/938], Loss: 0.0102\n",
            "Epoch [10/10], Step [500/938], Loss: 0.0651\n",
            "Epoch [10/10], Step [600/938], Loss: 0.0068\n",
            "Epoch [10/10], Step [700/938], Loss: 0.0362\n",
            "Epoch [10/10], Step [800/938], Loss: 0.0991\n",
            "Epoch [10/10], Step [900/938], Loss: 0.0097\n",
            "Training Complete!\n"
          ]
        }
      ]
    },
    {
      "cell_type": "code",
      "source": [
        "model.eval()\n",
        "with torch.no_grad():\n",
        "    correct = 0\n",
        "    total = 0\n",
        "    for images, labels in test_loader:\n",
        "        outputs = model(images)\n",
        "        _, predicted = torch.max(outputs.data, 1)\n",
        "        total += labels.size(0)\n",
        "        correct += (predicted == labels).sum().item()\n",
        "\n",
        "print('Accuracy of the model on the 10000 test images: {} %'.format(100 * correct / total))"
      ],
      "metadata": {
        "id": "9rWd4Dc21FQK",
        "colab": {
          "base_uri": "https://localhost:8080/"
        },
        "outputId": "9e7b7b7a-c719-4372-fec4-805e7b0e5684"
      },
      "execution_count": 7,
      "outputs": [
        {
          "output_type": "stream",
          "name": "stdout",
          "text": [
            "Accuracy of the model on the 10000 test images: 97.81 %\n"
          ]
        }
      ]
    }
  ]
}